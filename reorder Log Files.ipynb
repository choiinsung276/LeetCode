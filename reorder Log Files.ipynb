{
 "cells": [
  {
   "cell_type": "markdown",
   "metadata": {},
   "source": [
    "- You have an array of logs.  Each log is a space delimited string of words.\n",
    "- 로그의 배열을 가지고있다. 각로그는 띄어쓰기로 되있다.\n",
    "- For each log, the first word in each log is an alphanumeric identifier.  Then, either:\n",
    "- 각 로그에 대해, 각로그의 첫번째 문자는 알파벳적인 식별자이다.\n",
    "- Each word after the identifier will consist only of lowercase letters, or;\n",
    "- Each word after the identifier will consist only of digits.\n",
    "- 각 워드는 식별자 뒤에 소문자로 이루어져 있거나 숫자로 이루어져있다.\n",
    "- We will call these two varieties of logs letter-logs and digit-logs.  It is guaranteed that each log has at least one word after its identifier.\n",
    "- 문자로그와 숫자로그라고 부를것이다.\n",
    "- 그것은 보장되있다. 각 로그는 그 식별자 후에 최소 한 문자를 가지고있다.\n",
    "\n",
    "- Reorder the logs so that all of the letter-logs come before any digit-log.  \n",
    "- 재정렬해라. 모든 문자로그들이 어떠한 숫자 로그 앞에 오도록.\n",
    "- The letter-logs are ordered lexicographically ignoring identifier, with the identifier used in case of ties.  \n",
    "- 식별자를 무시하면서 문자 로그들을 알파벳사전순서대로 정렬해라, \n",
    "- 단, 같은경우에는 식별자를 사용해라\n",
    "- The digit-logs should be put in their original order.\n",
    "- 숫자 로그들은 그들이 원래 순서대로 해야만한다.\n",
    "- Return the final order of the logs."
   ]
  },
  {
   "cell_type": "code",
   "execution_count": 1,
   "metadata": {},
   "outputs": [],
   "source": [
    "from typing import List\n",
    "\n",
    "\n",
    "class Solution:\n",
    "    def reorderLogFiles(self, logs: List[str]) -> List[str]:\n",
    "        letters, digits = [], []\n",
    "        for log in logs:\n",
    "            if log.split()[1].isdigit():\n",
    "                digits.append(log)\n",
    "            else:\n",
    "                letters.append(log)\n",
    "\n",
    "        # 두 개의 키를 람다 표현식으로 정렬\n",
    "        letters.sort(key=lambda x: (x.split()[1:], x.split()[0]))\n",
    "        return letters + digits"
   ]
  },
  {
   "cell_type": "code",
   "execution_count": 2,
   "metadata": {},
   "outputs": [
    {
     "data": {
      "text/plain": [
       "['let1 art can',\n",
       " 'let3 art zero',\n",
       " 'let2 own kit dig',\n",
       " 'dig1 8 1 5 1',\n",
       " 'dig2 3 6']"
      ]
     },
     "execution_count": 2,
     "metadata": {},
     "output_type": "execute_result"
    }
   ],
   "source": [
    "s1 = Solution()\n",
    "logs = [\"dig1 8 1 5 1\",\"let1 art can\",\"dig2 3 6\",\"let2 own kit dig\",\"let3 art zero\"]\n",
    "s1.reorderLogFiles(logs)"
   ]
  },
  {
   "cell_type": "markdown",
   "metadata": {},
   "source": [
    "# isdigit() isalpha()\n",
    "## 문자열이 숫자인지아닌지 , 알파벳인지 아닌지\n",
    "\n",
    "# list.sort() 리스트를 정렬하는, list.sorted()  새롭게 리스트를 만듬\n",
    "\n",
    "## sort(*, key=None, reverse=False)"
   ]
  },
  {
   "cell_type": "code",
   "execution_count": 3,
   "metadata": {},
   "outputs": [
    {
     "data": {
      "text/plain": [
       "['a', 'Andrew', 'from', 'is', 'string', 'test', 'This']"
      ]
     },
     "execution_count": 3,
     "metadata": {},
     "output_type": "execute_result"
    }
   ],
   "source": [
    "sorted(\"This is a test string from Andrew\".split(), key=str.lower)\n"
   ]
  },
  {
   "cell_type": "markdown",
   "metadata": {},
   "source": [
    "## sort : 정렬, 기본값은 오름차순 정렬, reverse옵션 True는 내림차순 정렬\n",
    "\n",
    "##  add = lambda a, b: a+b\n",
    "## lambda 매개변수1, 매개변수2, ... : 매개변수를 이용한 표현식"
   ]
  },
  {
   "cell_type": "code",
   "execution_count": 5,
   "metadata": {},
   "outputs": [
    {
     "data": {
      "text/plain": [
       "[(0, 1), (1, 2), (3, 0), (5, 1), (5, 2)]"
      ]
     },
     "execution_count": 5,
     "metadata": {},
     "output_type": "execute_result"
    }
   ],
   "source": [
    "a = [(1, 2), (0, 1), (5, 1), (5, 2), (3, 0)]\n",
    "\n",
    "# 인자없이 그냥 sorted()만 쓰면, 리스트 아이템의 각 요소 순서대로 정렬을 한다. \n",
    "b = sorted(a)\n",
    "b"
   ]
  },
  {
   "cell_type": "code",
   "execution_count": 6,
   "metadata": {},
   "outputs": [
    {
     "data": {
      "text/plain": [
       "[(0, 1), (1, 2), (3, 0), (5, 1), (5, 2)]"
      ]
     },
     "execution_count": 6,
     "metadata": {},
     "output_type": "execute_result"
    }
   ],
   "source": [
    "# key 인자에 함수를 넘겨주면 해당 함수의 반환값을 비교하여 순서대로 정렬한다. \n",
    "c = sorted(a, key = lambda x : x[0])\n",
    "c"
   ]
  },
  {
   "cell_type": "code",
   "execution_count": 7,
   "metadata": {},
   "outputs": [
    {
     "data": {
      "text/plain": [
       "[(3, 0), (0, 1), (5, 1), (1, 2), (5, 2)]"
      ]
     },
     "execution_count": 7,
     "metadata": {},
     "output_type": "execute_result"
    }
   ],
   "source": [
    "d = sorted(a, key = lambda x : x[1]) # d = [(3, 0), (0, 1), (5, 1), (1, 2), (5, 2)]\n",
    "d"
   ]
  },
  {
   "cell_type": "markdown",
   "metadata": {},
   "source": [
    "# 아이템 첫 번째 인자를 기준으로 오름차순으로 먼저 정렬하고,\n",
    "# 그리고 그 안에서 다음 두 번째 인자를 기준으로 내림차순으로 정렬하게 하려면, 다음과 같이 할 수 있다."
   ]
  },
  {
   "cell_type": "code",
   "execution_count": 8,
   "metadata": {},
   "outputs": [],
   "source": [
    "e = [(1, 3), (0, 3), (1, 4), (1, 5), (0, 1), (2, 4)]\n",
    "f = sorted(e, key = lambda x : (x[0], -x[1])) # f = [(0, 3), (0, 1), (1, 5), (1, 4), (1, 3), (2, 4)]\n",
    "\n"
   ]
  },
  {
   "cell_type": "code",
   "execution_count": 9,
   "metadata": {},
   "outputs": [],
   "source": [
    "class Solution:\n",
    "    def reorderLogFiles(self, logs: List[str]) -> List[str]:\n",
    "        letters, digits = [] , []\n",
    "        for log in logs:\n",
    "            if log.split()[1].isdigit():\n",
    "                digits.append(log)\n",
    "            else:\n",
    "                letters.append(log)\n",
    "                \n",
    "        letters.sort(key = lambda x: (x.split()[1:], x.split()[0]))\n",
    "        return letters + digits"
   ]
  },
  {
   "cell_type": "code",
   "execution_count": 10,
   "metadata": {},
   "outputs": [],
   "source": [
    "class Solution(object):\n",
    "    def reorderLogFiles(self, logs):\n",
    "        def f(log):\n",
    "            # 식별자와 그뒤로 분리를 했음 id_ 식별자 들어가고 rest 나머지 다들어감\n",
    "            id_, rest = log.split(\" \", 1)\n",
    "            # 알파벳이면 0 알파벳이 아니면 1\n",
    "            return (0, rest, id_) if rest[0].isalpha() else (1,)\n",
    "\n",
    "        return sorted(logs, key = f)"
   ]
  },
  {
   "cell_type": "code",
   "execution_count": 11,
   "metadata": {},
   "outputs": [
    {
     "data": {
      "text/plain": [
       "['let1 art can',\n",
       " 'let3 art zero',\n",
       " 'let2 own kit dig',\n",
       " 'dig1 8 1 5 1',\n",
       " 'dig2 3 6']"
      ]
     },
     "execution_count": 11,
     "metadata": {},
     "output_type": "execute_result"
    }
   ],
   "source": [
    "s1 = Solution()\n",
    "logs = [\"dig1 8 1 5 1\",\"let1 art can\",\"dig2 3 6\",\"let2 own kit dig\",\"let3 art zero\"]\n",
    "s1.reorderLogFiles(logs)"
   ]
  },
  {
   "cell_type": "markdown",
   "metadata": {},
   "source": [
    "# split(\"하고싶은\", a)  a번 분리 1이면 한번분리 2면 2번분리 "
   ]
  },
  {
   "cell_type": "code",
   "execution_count": 12,
   "metadata": {},
   "outputs": [
    {
     "name": "stdout",
     "output_type": "stream",
     "text": [
      "['apple', 'banana#cherry#orange']\n"
     ]
    }
   ],
   "source": [
    "txt = \"apple#banana#cherry#orange\"\n",
    "\n",
    "# setting the maxsplit parameter to 1, will return a list with 2 elements!\n",
    "x = txt.split(\"#\", 1)\n",
    "\n",
    "print(x)"
   ]
  },
  {
   "cell_type": "code",
   "execution_count": 13,
   "metadata": {},
   "outputs": [
    {
     "name": "stdout",
     "output_type": "stream",
     "text": [
      "['apple', 'banana', 'cherry#orange']\n"
     ]
    }
   ],
   "source": [
    "x = txt.split(\"#\",2)\n",
    "print(x)"
   ]
  },
  {
   "cell_type": "code",
   "execution_count": 14,
   "metadata": {},
   "outputs": [
    {
     "name": "stdout",
     "output_type": "stream",
     "text": [
      "['apple', 'banana', 'cherry', 'orange']\n"
     ]
    }
   ],
   "source": [
    "x = txt.split(\"#\")\n",
    "print(x)"
   ]
  },
  {
   "cell_type": "code",
   "execution_count": null,
   "metadata": {},
   "outputs": [],
   "source": []
  }
 ],
 "metadata": {
  "kernelspec": {
   "display_name": "Python 3",
   "language": "python",
   "name": "python3"
  },
  "language_info": {
   "codemirror_mode": {
    "name": "ipython",
    "version": 3
   },
   "file_extension": ".py",
   "mimetype": "text/x-python",
   "name": "python",
   "nbconvert_exporter": "python",
   "pygments_lexer": "ipython3",
   "version": "3.8.3"
  }
 },
 "nbformat": 4,
 "nbformat_minor": 4
}
