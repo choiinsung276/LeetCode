{
 "cells": [
  {
   "cell_type": "markdown",
   "metadata": {},
   "source": [
    "# 1\n",
    "# Given an array of integers, return indices of the two numbers such that they add up to a specific target.\n",
    "    - 정수 배열이 주어지고, 두 숫자의 합이 특정한 값을 해주는 위치를 반환해라\n",
    "\n",
    "# You may assume that each input would have exactly one solution, and you may not use the same element twice."
   ]
  },
  {
   "cell_type": "code",
   "execution_count": 2,
   "metadata": {},
   "outputs": [],
   "source": [
    "from typing import List"
   ]
  },
  {
   "cell_type": "markdown",
   "metadata": {},
   "source": [
    "# O(N^2) -> 5200 ms "
   ]
  },
  {
   "cell_type": "code",
   "execution_count": 3,
   "metadata": {},
   "outputs": [],
   "source": [
    "# 브루트 포스 n^2 \n",
    "class Solution:\n",
    "    def twoSum(self, nums: List[int], target: int) -> List[int]:\n",
    "        for i in range(len(nums)):\n",
    "            for j in range(i + 1, len(nums)):\n",
    "                if nums[i] + nums[j] == target:\n",
    "                    return [i, j]\n"
   ]
  },
  {
   "cell_type": "code",
   "execution_count": 5,
   "metadata": {},
   "outputs": [
    {
     "data": {
      "text/plain": [
       "[0, 1]"
      ]
     },
     "execution_count": 5,
     "metadata": {},
     "output_type": "execute_result"
    }
   ],
   "source": [
    "s1 = Solution()\n",
    "nums = [2, 7, 11, 15] \n",
    "target = 9\n",
    "s1.twoSum(nums, target)"
   ]
  },
  {
   "cell_type": "markdown",
   "metadata": {},
   "source": [
    "# in 사용 n^2 시간복잡도 여도 상수항이 더 작아서 더 빨리 실행됨 \n",
    "# O(N^2) -> 800ms\n",
    "# in 의 시간복잡도 list, tuple은 하나하나 찾기 떄문에 O(n)\n",
    "## 파이썬의 내부 함수로 구현된 in은  파이썬 레벨에서 매번 값을 비교하는 것에 비해 훨씬 더 빨리 실행된다."
   ]
  },
  {
   "cell_type": "code",
   "execution_count": 11,
   "metadata": {},
   "outputs": [
    {
     "data": {
      "text/plain": [
       "(0, 1)"
      ]
     },
     "execution_count": 11,
     "metadata": {},
     "output_type": "execute_result"
    }
   ],
   "source": [
    "\n",
    "class Solution:\n",
    "    def twoSum1(self, nums:List[int], target:int) -> List[int]:\n",
    "        for i , n in enumerate(nums):\n",
    "            complement=target - n \n",
    "        \n",
    "            if complement in nums[i+1:]:\n",
    "                return nums.index(n), nums[i +1:].index(complement) + (i+1)\n",
    "s1 = Solution()\n",
    "nums = [2, 7, 11, 15] \n",
    "target = 9\n",
    "s1.twoSum1(nums, target)"
   ]
  },
  {
   "cell_type": "code",
   "execution_count": 4,
   "metadata": {},
   "outputs": [
    {
     "data": {
      "text/plain": [
       "(0, 1)"
      ]
     },
     "execution_count": 4,
     "metadata": {},
     "output_type": "execute_result"
    }
   ],
   "source": [
    "class Solution:\n",
    "    def twoSum(self, nums: List[int], target: int) -> List[int]:\n",
    "        nums_map = {}\n",
    "        # 키와 값을 바꿔서 딕셔너리로 저장\n",
    "        for i, num in enumerate(nums):\n",
    "            nums_map[num] = i\n",
    "\n",
    "        # 타겟에서 첫 번째 수를 뺀 결과를 키로 조회\n",
    "        for i, num in enumerate(nums):\n",
    "            if target - num in nums_map and i != nums_map[target - num]:\n",
    "                return nums.index(num), nums_map[target - num]\n",
    "            \n",
    "s1 = Solution()\n",
    "nums = [2, 7, 11, 15] \n",
    "target = 9\n",
    "s1.twoSum(nums, target)"
   ]
  },
  {
   "cell_type": "markdown",
   "metadata": {},
   "source": [
    "# 분할 상환 분석에 따른 시간복잡도는 O(1)이며 전체는 O(n)이 된다. "
   ]
  },
  {
   "cell_type": "code",
   "execution_count": null,
   "metadata": {},
   "outputs": [],
   "source": [
    "class Solution:\n",
    "    def twoSum(self, nums: List[int], target : int)->List[int]:\n",
    "        nums_map = {}\n",
    "        #키와 값을 바꿔서 딕셔너리로 저장\n",
    "        for i , num in enumerate(nums):\n",
    "            nums_map[num] = i\n",
    "            \n",
    "        # 타겟에서 첫 번째 수를 뺸 결과를 키로 조회\n",
    "        for i, num in enumerate(nums):\n",
    "            if target-num in nums_map and i != nums_map[target-num]"
   ]
  },
  {
   "cell_type": "markdown",
   "metadata": {},
   "source": [
    "# 투 포인터 이용\n",
    "## 왼쪽 포인터와 오른쪽 포인터의 합이 타겟보다 크다면 오른쪽 포인터를 왼쪽으로 , 작다면 왼쪽포인터를 오른쪽으로 옮기면서 값을 조정하는 방식이다. 투포인터의 시간 복잡도는 O(n) \n",
    "# 하지만 정렬 되있지 않은 경우엔 문제를 못풀고 정렬하더라도 전의 인덱스를 못찾음 "
   ]
  },
  {
   "cell_type": "markdown",
   "metadata": {},
   "source": [
    "# 42. Trapping Rain Water\n",
    "# Given n non-negative integers representing an elevation map where the width of each bar is 1, compute how much water it is able to trap after raining.\n",
    "\n",
    "# n개의 높이 지도를 나타내는 양수정렬이 주어지고, 각 바의 넓이는 1읻다. 얼마나 많은 물을 비온뒤에 모을수 있을지 계산해라 . "
   ]
  },
  {
   "cell_type": "code",
   "execution_count": null,
   "metadata": {},
   "outputs": [],
   "source": []
  }
 ],
 "metadata": {
  "kernelspec": {
   "display_name": "Python 3",
   "language": "python",
   "name": "python3"
  },
  "language_info": {
   "codemirror_mode": {
    "name": "ipython",
    "version": 3
   },
   "file_extension": ".py",
   "mimetype": "text/x-python",
   "name": "python",
   "nbconvert_exporter": "python",
   "pygments_lexer": "ipython3",
   "version": "3.8.3"
  }
 },
 "nbformat": 4,
 "nbformat_minor": 4
}
