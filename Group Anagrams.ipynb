{
 "cells": [
  {
   "cell_type": "markdown",
   "metadata": {},
   "source": [
    "# 49. Group Anagrams\n",
    "## Given an array of strings, group anagrams together.\n",
    "\n",
    "## Example:\n",
    "\n",
    "- Input: [\"eat\", \"tea\", \"tan\", \"ate\", \"nat\", \"bat\"],\n",
    "- Output:\n",
    "- [\n",
    "-   [\"ate\",\"eat\",\"tea\"],\n",
    "-   [\"nat\",\"tan\"],\n",
    "-   [\"bat\"]\n",
    "- ]"
   ]
  },
  {
   "cell_type": "markdown",
   "metadata": {},
   "source": [
    "# 문자구성이 같은것끼리 => 정렬하여 비교\n",
    "----------------------------------------------------------------------------\n",
    "## 존재하지 않는 키를 딕트에 추가하려면 keyerror가 발생 \n",
    "## => defaultdict 사용하면 없는 키는 디폴트를 생성해준다. \n",
    "## 매번 키 존재 여부를 체크하지 않고 비교구문을 생략해 간결하게 구성된다."
   ]
  },
  {
   "cell_type": "code",
   "execution_count": 16,
   "metadata": {},
   "outputs": [],
   "source": [
    "import collections\n",
    "from typing import List\n",
    "\n",
    "\n",
    "class Solution:\n",
    "    def groupAnagrams(self, strs: List[str]) -> List[List[str]]:\n",
    "        anagrams = collections.defaultdict(list)\n",
    "\n",
    "        for word in strs:\n",
    "            # 정렬하여 딕셔너리에 추가\n",
    "            #print(type(sorted(word))) -> class list\n",
    "            #print(type(word)) -> class str\n",
    "            #print(sorted(word))\n",
    "            anagrams[''.join(sorted(word))].append(word)\n",
    "        return anagrams.values()"
   ]
  },
  {
   "cell_type": "code",
   "execution_count": 17,
   "metadata": {},
   "outputs": [
    {
     "name": "stdout",
     "output_type": "stream",
     "text": [
      "['a', 'e', 't']\n",
      "['a', 'e', 't']\n",
      "['a', 'n', 't']\n",
      "['a', 'e', 't']\n",
      "['a', 'n', 't']\n",
      "['a', 'b', 't']\n"
     ]
    },
    {
     "data": {
      "text/plain": [
       "dict_values([['eat', 'tea', 'ate'], ['tan', 'nat'], ['bat']])"
      ]
     },
     "execution_count": 17,
     "metadata": {},
     "output_type": "execute_result"
    }
   ],
   "source": [
    "s1 = Solution()\n",
    "strs = [\"eat\", \"tea\", \"tan\", \"ate\", \"nat\", \"bat\"]\n",
    "s1.groupAnagrams(strs)"
   ]
  },
  {
   "cell_type": "markdown",
   "metadata": {},
   "source": [
    "# 리스트를 문자열로 \"\".join( list )\n",
    "## join 함수는 리스트를 특정 구분자로 문자열로 해주는 함수입니다"
   ]
  },
  {
   "cell_type": "code",
   "execution_count": 25,
   "metadata": {},
   "outputs": [
    {
     "name": "stdout",
     "output_type": "stream",
     "text": [
      "사자코끼리토끼\n",
      "사자,코끼리,토끼\n"
     ]
    }
   ],
   "source": [
    "animals = ['사자', '코끼리','토끼']\n",
    "print(''.join(animals))\n",
    "#type(''.join(animals))\n",
    "print(','.join(animals)) #구분자 ,"
   ]
  },
  {
   "cell_type": "markdown",
   "metadata": {},
   "source": [
    "# 파이썬 리스트에는 리스트를 제자리에서(in-place) 수정하는 내장 list.sort() 메서드가 있습니다. 또한, 이터러블로부터 새로운 정렬된 리스트를 만드는 sorted() 내장 함수가 있습니다.\n",
    "# 또 다른 점은 list.sort() 메서드가 리스트에게만 정의된다는 것입니다. 이와 달리, sorted() 함수는 모든 이터러블을 받아들입니다."
   ]
  },
  {
   "cell_type": "code",
   "execution_count": 24,
   "metadata": {},
   "outputs": [
    {
     "data": {
      "text/plain": [
       "[('dave', 'B', 10), ('jane', 'B', 12), ('john', 'A', 15)]"
      ]
     },
     "execution_count": 24,
     "metadata": {},
     "output_type": "execute_result"
    }
   ],
   "source": [
    "student_tuples = [\n",
    "    ('john', 'A', 15),\n",
    "    ('jane', 'B', 12),\n",
    "    ('dave', 'B', 10),\n",
    "]\n",
    "sorted(student_tuples, key=lambda student: student[2]) # 2번째 점수\n",
    "sorted(student_tuples, key= lambda student : student[1]) # 첫번째 학점\n",
    "sorted(student_tuples, key = lambda student: student[0]) # 이름으로"
   ]
  },
  {
   "cell_type": "markdown",
   "metadata": {},
   "source": [
    "# Time Complexity: O(NK log K), where N is the length of strs, and K is the maximum length of a string in strs. The outer loop has complexity O(N) as we iterate through each string. Then, we sort each string in O(KlogK) time.\n",
    "\n",
    "# Space Complexity: O(NK), the total information content stored in ans."
   ]
  },
  {
   "cell_type": "code",
   "execution_count": 26,
   "metadata": {},
   "outputs": [],
   "source": [
    "class Solution:\n",
    "    def groupAnagrams(self, strs: List[str]) -> List[List[str]]:\n",
    "        anagrams = collections.defaultdict(list)\n",
    "\n",
    "        for word in strs:\n",
    "            # 정렬하여 딕셔너리에 추가\n",
    "            anagrams[''.join(sorted(word))].append(word)\n",
    "        return anagrams.values()"
   ]
  },
  {
   "cell_type": "markdown",
   "metadata": {},
   "source": [
    "# 리스트 요소의 한 문자열을 정렬하는데 klogk 그 문자 개수가 n개\n",
    "# 따라서 n k log k"
   ]
  },
  {
   "cell_type": "code",
   "execution_count": 29,
   "metadata": {},
   "outputs": [],
   "source": [
    "class Solution:\n",
    "    def groupAnagrams(self, strs: List[str]) -> List[List[str]]:\n",
    "        ans = collections.defaultdict(list)\n",
    "        for s in strs:\n",
    "            count = [0] * 26\n",
    "            for c in s:\n",
    "                count[ord(c) - ord('a')] += 1\n",
    "            ans[tuple(count)].append(s)\n",
    "        return ans.values()"
   ]
  },
  {
   "cell_type": "code",
   "execution_count": 30,
   "metadata": {},
   "outputs": [
    {
     "data": {
      "text/plain": [
       "dict_values([['eat', 'tea', 'ate'], ['tan', 'nat'], ['bat']])"
      ]
     },
     "execution_count": 30,
     "metadata": {},
     "output_type": "execute_result"
    }
   ],
   "source": [
    "s1 = Solution()\n",
    "strs = [\"eat\", \"tea\", \"tan\", \"ate\", \"nat\", \"bat\"]\n",
    "s1.groupAnagrams(strs)"
   ]
  },
  {
   "cell_type": "markdown",
   "metadata": {},
   "source": [
    "# 문자의 아스키 코드값을 돌려주는 함수이다. ord(c)\n",
    "# a를 빼는이유 아스키 코드값중에 가장작음\n",
    "\n",
    "# 튜플로 준이유는 무엇일까요..."
   ]
  },
  {
   "cell_type": "markdown",
   "metadata": {},
   "source": [
    "# Time Complexity: O(NK), where N is the length of strs, and K is the maximum length of a string in strs. Counting each string is linear in the size of the string, and we count every string."
   ]
  },
  {
   "cell_type": "markdown",
   "metadata": {},
   "source": [
    "### k개수만큼 배열에 +1 접근해주니깐 최악 k번 , n개의 단어개수 니깐 최악은 nk"
   ]
  },
  {
   "cell_type": "code",
   "execution_count": null,
   "metadata": {},
   "outputs": [],
   "source": []
  }
 ],
 "metadata": {
  "kernelspec": {
   "display_name": "Python 3",
   "language": "python",
   "name": "python3"
  },
  "language_info": {
   "codemirror_mode": {
    "name": "ipython",
    "version": 3
   },
   "file_extension": ".py",
   "mimetype": "text/x-python",
   "name": "python",
   "nbconvert_exporter": "python",
   "pygments_lexer": "ipython3",
   "version": "3.8.3"
  }
 },
 "nbformat": 4,
 "nbformat_minor": 4
}
