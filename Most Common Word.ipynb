{
 "cells": [
  {
   "cell_type": "markdown",
   "metadata": {},
   "source": [
    "- Given a paragraph and a list of banned words, return the most frequent word that is not in the list of banned words.\n",
    "- 문장과 금지된 단어 리스트가있고, 가장 빈번한 문자를 반환해라, 단 금지된 단어 리스트에 있는 단어는 안된다.\n",
    "- It is guaranteed there is at least one word that isn't banned, and that the answer is unique.\n",
    "- 보장된것은 다음과같다. 적어도 최소한 문재ㅏ는 밴이 아니다. \n",
    "- Words in the list of banned words are given in lowercase, and free of punctuation. \n",
    "- 금지된 문자들의 리스트에 있는 문자는 소문자이고 구두점(마침표, 쉼표)등은 무시한다.\n",
    "- Words in the paragraph are not case sensitive.  The answer is in lowercase.\n"
   ]
  },
  {
   "cell_type": "code",
   "execution_count": 1,
   "metadata": {},
   "outputs": [],
   "source": [
    "import collections\n",
    "import re\n",
    "from typing import List\n",
    "\n",
    "\n",
    "class Solution:\n",
    "    def mostCommonWord(self, paragraph: str, banned: List[str]) -> str:\n",
    "        words = [word for word in re.sub(r'[^\\w]', ' ', paragraph)\n",
    "            .lower().split()\n",
    "                 if word not in banned]\n",
    "\n",
    "        counts = collections.Counter(words)\n",
    "        # 가장 흔하게 등장하는 단어의 첫 번째 인덱스 리턴\n",
    "        # most_common(1) 을 하게되면 [('ball',2)] 라서 [0][0] 볼이 나오는것\n",
    "        return counts.most_common(1)[0][0]\n",
    "    "
   ]
  },
  {
   "cell_type": "code",
   "execution_count": 8,
   "metadata": {},
   "outputs": [
    {
     "data": {
      "text/plain": [
       "'ball'"
      ]
     },
     "execution_count": 8,
     "metadata": {},
     "output_type": "execute_result"
    }
   ],
   "source": [
    "s1 = Solution()\n",
    "paragraph = \"Bob hit a ball, the hit BALL flew far after it was hit.\"\n",
    "banned = [\"hit\"]\n",
    "s1.mostCommonWord(paragraph, banned)"
   ]
  },
  {
   "cell_type": "markdown",
   "metadata": {},
   "source": [
    "# 딕셔너리 형태로 각 문자 횟수를 알려줌"
   ]
  },
  {
   "cell_type": "code",
   "execution_count": 4,
   "metadata": {},
   "outputs": [
    {
     "data": {
      "text/plain": [
       "{'h': 1, 'e': 1, 'l': 3, 'o': 2, ' ': 1, 'w': 1, 'r': 1, 'd': 1}"
      ]
     },
     "execution_count": 4,
     "metadata": {},
     "output_type": "execute_result"
    }
   ],
   "source": [
    "def countLetters(word):\n",
    "    counter = {}\n",
    "    for letter in word:\n",
    "        if letter not in counter:\n",
    "            counter[letter] = 0\n",
    "        counter[letter] += 1\n",
    "    return counter\n",
    "\n",
    "countLetters('hello world')\n",
    "# {'h': 1, 'e': 1, 'l': 3, 'o': 2, ' ': 1, 'w': 1, 'r': 1, 'd': 1}"
   ]
  },
  {
   "cell_type": "code",
   "execution_count": 6,
   "metadata": {},
   "outputs": [
    {
     "data": {
      "text/plain": [
       "Counter({'h': 1, 'e': 1, 'l': 3, 'o': 2, ' ': 1, 'w': 1, 'r': 1, 'd': 1})"
      ]
     },
     "execution_count": 6,
     "metadata": {},
     "output_type": "execute_result"
    }
   ],
   "source": [
    "collections.Counter('hello world')"
   ]
  },
  {
   "cell_type": "code",
   "execution_count": 7,
   "metadata": {},
   "outputs": [
    {
     "data": {
      "text/plain": [
       "('l', 3)"
      ]
     },
     "execution_count": 7,
     "metadata": {},
     "output_type": "execute_result"
    }
   ],
   "source": [
    "from collections import Counter\n",
    "\n",
    "def find_max(word):\n",
    "    counter = Counter(word)\n",
    "    max_count = -1\n",
    "    for letter in counter:\n",
    "        if counter[letter] > max_count:\n",
    "            max_count = counter[letter]\n",
    "            max_letter = letter\n",
    "    return max_letter, max_count\n",
    "\n",
    "find_max('hello world') # ('l', 3)"
   ]
  },
  {
   "cell_type": "markdown",
   "metadata": {},
   "source": [
    "# 카운터 객체 무엇인가"
   ]
  },
  {
   "cell_type": "code",
   "execution_count": 10,
   "metadata": {},
   "outputs": [
    {
     "data": {
      "text/plain": [
       "Counter({'red': 2, 'blue': 3, 'green': 1})"
      ]
     },
     "execution_count": 10,
     "metadata": {},
     "output_type": "execute_result"
    }
   ],
   "source": [
    "cnt = Counter()\n",
    "for word in ['red','blue','red','green','blue','blue']:\n",
    "    cnt[word] += 1\n",
    "cnt"
   ]
  },
  {
   "cell_type": "markdown",
   "metadata": {},
   "source": [
    "# 단어수 세기\n",
    "> # Find the ten most common words in Hamlet\n",
    " > - import re\n",
    " > - words = re.findall(r'\\w+', open('hamlet.txt').read().lower())\n",
    " > - Counter(words).most_common(10)\n",
    "\n",
    "## [('the', 1143), ('and', 966), ('to', 762), ('of', 669), ('i', 631),('you', 554),  ('a', 546), ('my', 514), ('hamlet', 471), ('in', 451)]\n",
    "\n",
    "### counter 객체의 most_common(n)"
   ]
  },
  {
   "cell_type": "code",
   "execution_count": 11,
   "metadata": {},
   "outputs": [
    {
     "data": {
      "text/plain": [
       "['a', 'a', 'a', 'a', 'b', 'b']"
      ]
     },
     "execution_count": 11,
     "metadata": {},
     "output_type": "execute_result"
    }
   ],
   "source": [
    "c = Counter(a=4, b=2, c=0, d=-2)\n",
    "sorted(c.elements())"
   ]
  },
  {
   "cell_type": "code",
   "execution_count": 12,
   "metadata": {},
   "outputs": [
    {
     "data": {
      "text/plain": [
       "[('a', 5), ('b', 2), ('r', 2)]"
      ]
     },
     "execution_count": 12,
     "metadata": {},
     "output_type": "execute_result"
    }
   ],
   "source": [
    "Counter('abracadabra').most_common(3)"
   ]
  },
  {
   "cell_type": "code",
   "execution_count": 13,
   "metadata": {},
   "outputs": [
    {
     "data": {
      "text/plain": [
       "Counter({'a': 3, 'b': 0, 'c': -3, 'd': -6})"
      ]
     },
     "execution_count": 13,
     "metadata": {},
     "output_type": "execute_result"
    }
   ],
   "source": [
    "c = Counter(a=4, b=2, c=0, d=-2)\n",
    "d = Counter(a=1, b=2, c=3, d=4)\n",
    "c.subtract(d)\n",
    "c"
   ]
  },
  {
   "cell_type": "code",
   "execution_count": null,
   "metadata": {},
   "outputs": [],
   "source": []
  }
 ],
 "metadata": {
  "kernelspec": {
   "display_name": "Python 3",
   "language": "python",
   "name": "python3"
  },
  "language_info": {
   "codemirror_mode": {
    "name": "ipython",
    "version": 3
   },
   "file_extension": ".py",
   "mimetype": "text/x-python",
   "name": "python",
   "nbconvert_exporter": "python",
   "pygments_lexer": "ipython3",
   "version": "3.8.3"
  }
 },
 "nbformat": 4,
 "nbformat_minor": 4
}
